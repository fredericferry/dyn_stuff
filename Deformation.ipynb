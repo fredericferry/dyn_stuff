{
 "cells": [
  {
   "cell_type": "markdown",
   "metadata": {},
   "source": [
    "# Champs de vent horizontaux et opérateur déformation\n",
    "\n",
    "Auteur : FERRY Frédéric (DESR/ENM/C3M) - février 2021"
   ]
  },
  {
   "cell_type": "code",
   "execution_count": null,
   "metadata": {},
   "outputs": [],
   "source": [
    "%matplotlib inline\n",
    "\n",
    "import os\n",
    "import matplotlib.pyplot as plt\n",
    "import numpy as np\n",
    "from numpy import sqrt, pi, cos, sin, exp, meshgrid, linspace, arange\n",
    "\n",
    "import warnings\n",
    "warnings.filterwarnings('ignore')"
   ]
  },
  {
   "cell_type": "raw",
   "metadata": {},
   "source": [
    "Domaine"
   ]
  },
  {
   "cell_type": "code",
   "execution_count": null,
   "metadata": {},
   "outputs": [],
   "source": [
    "# Domaine -10 à 10\n",
    "xx = linspace(-10,10,21)\n",
    "yy = linspace(-10,10,21)\n",
    "x,y = meshgrid(xx,yy)\n",
    "\n",
    "# Domaine 0 à 10\n",
    "xx1 = linspace(0,10,11)  \n",
    "yy1 = linspace(0,10,11)\n",
    "x1,y1 = meshgrid(xx1,yy1)"
   ]
  },
  {
   "cell_type": "raw",
   "metadata": {},
   "source": [
    "Définition du champ de vent"
   ]
  },
  {
   "cell_type": "code",
   "execution_count": null,
   "metadata": {},
   "outputs": [],
   "source": [
    "alpha=3\n",
    "\n",
    "u=alpha*x ; v=-alpha*y\n",
    "#u=-alpha*x ; v=alpha*y\n",
    "#u=alpha*y ; v=alpha*x\n",
    "#u=-alpha*y ; v=alpha*x\n",
    "#u=alpha*y1 ; v=0*x1\n",
    "#u=alpha*x ; v=alpha*y\n",
    "#u=-alpha*x ; v=-alpha*y\n",
    "#u=alpha*x1 ; v=0*y1\n",
    "#u=alpha*(1-x1) ; v=0*y1"
   ]
  },
  {
   "cell_type": "raw",
   "metadata": {},
   "source": [
    "Tracé du champ de vent"
   ]
  },
  {
   "cell_type": "code",
   "execution_count": null,
   "metadata": {},
   "outputs": [],
   "source": [
    "fig = plt.figure(figsize=(10, 10))\n",
    "\n",
    "ax = fig.add_subplot(111)\n",
    "ax.set_title('Horizontal wind field', fontsize=14)\n",
    "plt.grid(True)\n",
    "plt.xlabel(\"x\", fontsize=10)\n",
    "plt.ylabel(\"y\", fontsize=10)\n",
    "ax.quiver(x,y,u,v,sqrt(u**2+v**2), cmap=\"viridis\")\n",
    "\n",
    "figname='./wind'\n",
    "plt.savefig(figname+'.png',bbox_inches='tight')\n",
    "\n",
    "plt.show()"
   ]
  },
  {
   "cell_type": "raw",
   "metadata": {},
   "source": [
    "Calcul de la divergence, du tourbillon relatif, de la déformation d'étirement et de la déformation de cisaillement"
   ]
  },
  {
   "cell_type": "markdown",
   "metadata": {},
   "source": [
    "<p style=\"background:rgb(230,255,230)\">\n",
    "Compléter (à l'aide de la fonction gradient de numpy) par le calcul de la divergence horizontale, du tourbillon relatif et des opérateurs déformation d'étirement et déformation de cisaillement.\n",
    "</p>\n",
    "\n",
    "- div(V) = 𝜕u/𝜕x + 𝜕v/𝜕y\n",
    "- 𝛏 = 𝜕v/𝜕x - 𝜕u/𝜕y\n",
    "- de = 𝜕u/𝜕x - 𝜕v/𝜕y\n",
    "- dc = 𝜕u/𝜕y + 𝜕v/𝜕x\n",
    "\n",
    "<p >\n",
    "</p>\n",
    "\n",
    "- div(V) > 0 : champ divergent\n",
    "- 𝛏 > 0 : rotation antihoraire\n",
    "- de > 0 : l’axe des x est un axe de dilatation des distances, l’axe des y est un axe de contraction\n",
    "- de < 0 : l’axe des y est un axe de dilatation des distances, l’axe des x est un axe de contraction\n",
    "- dc < 0 : la particule est étirée suivant la première diagonale et contractée suivant la seconde\n",
    "- dc > 0 : la particule est étirée suivant la seconde diagonale et contractée suivant la première\n",
    "\n",
    "<p style=\"background:rgb(230,255,230)\">\n",
    "Conclure sur le caractère divergent/rotationnel du champ de vent et sur l'axe de dilatation des distances en cas de déformation.\n",
    "</p>"
   ]
  },
  {
   "cell_type": "code",
   "execution_count": null,
   "metadata": {
    "scrolled": false
   },
   "outputs": [],
   "source": []
  },
  {
   "cell_type": "markdown",
   "metadata": {},
   "source": [
    "<p style=\"background:rgb(230,255,230)\">\n",
    "Relancer les cellules précédentes du calepin pour tous les champs de vent définis en début de calepin\n",
    "</p>\n",
    "\n",
    "- u=αx ; v=-αy\n",
    "- u=-αx ; v=αy\n",
    "- u=αy ; v=αx\n",
    "- u=-αy ; v=αx\n",
    "- u=αy ; v=0\n",
    "- u=αx ; v=αy\n",
    "- u=-αx ; v=-αy\n",
    "- u=αx ; v=0\n",
    "- u=α(1-x) ; v=0"
   ]
  },
  {
   "cell_type": "raw",
   "metadata": {},
   "source": [
    "Définition du champ de vent"
   ]
  },
  {
   "cell_type": "code",
   "execution_count": null,
   "metadata": {},
   "outputs": [],
   "source": [
    "u=cos((2*np.pi/21)*y); v=np.cos((2*np.pi/21)*x)+np.cos((2*np.pi/21)*y)"
   ]
  },
  {
   "cell_type": "raw",
   "metadata": {},
   "source": [
    "Tracé du champ de vent"
   ]
  },
  {
   "cell_type": "code",
   "execution_count": null,
   "metadata": {},
   "outputs": [],
   "source": [
    "fig = plt.figure(figsize=(10, 10))\n",
    "\n",
    "ax = fig.add_subplot(111)\n",
    "ax.set_title('Horizontal wind field', fontsize=14)\n",
    "plt.grid(True)\n",
    "plt.xlabel(\"x\", fontsize=10)\n",
    "plt.ylabel(\"y\", fontsize=10)\n",
    "ax.quiver(x,y,u,v,sqrt(u**2+v**2), cmap=\"viridis\")\n",
    "\n",
    "figname='./wind'\n",
    "plt.savefig(figname+'.png',bbox_inches='tight')\n",
    "\n",
    "plt.show()"
   ]
  },
  {
   "cell_type": "markdown",
   "metadata": {},
   "source": [
    "<p style=\"background:rgb(230,255,230)\">\n",
    "Compléter (à l'aide de la fonction gradient de numpy) par le calcul de la divergence horizontale, du tourbillon relatif, des opérateurs déformation d'étirement et déformation de cisaillement et du taux de déformation.\n",
    "</p>\n",
    "\n",
    "- div(V) = 𝜕u/𝜕x + 𝜕v/𝜕y\n",
    "- 𝛏 = 𝜕v/𝜕x - 𝜕u/𝜕y\n",
    "- de = 𝜕u/𝜕x - 𝜕v/𝜕y\n",
    "- dc = 𝜕u/𝜕y + 𝜕v/𝜕x\n",
    "- taux = √(de²+dc²)\n",
    "\n",
    "<p style=\"background:rgb(230,255,230)\">\n",
    "Tracer le champ de déformation de ce champ de vent (vecteur de coordonnées (dc, -de+taux)) </p>\n",
    "</p>"
   ]
  },
  {
   "cell_type": "raw",
   "metadata": {},
   "source": [
    "Calcul de la divergence, du tourbillon relatif, de la déformation d'étirement, de la déformation de cisaillement et du taux de déformation."
   ]
  },
  {
   "cell_type": "code",
   "execution_count": null,
   "metadata": {
    "scrolled": false
   },
   "outputs": [],
   "source": []
  },
  {
   "cell_type": "raw",
   "metadata": {},
   "source": [
    "Tracé du champ de déformation"
   ]
  },
  {
   "cell_type": "code",
   "execution_count": null,
   "metadata": {},
   "outputs": [],
   "source": []
  }
 ],
 "metadata": {
  "kernelspec": {
   "display_name": "Python 3",
   "language": "python",
   "name": "python3"
  },
  "language_info": {
   "codemirror_mode": {
    "name": "ipython",
    "version": 3
   },
   "file_extension": ".py",
   "mimetype": "text/x-python",
   "name": "python",
   "nbconvert_exporter": "python",
   "pygments_lexer": "ipython3",
   "version": "3.7.6"
  }
 },
 "nbformat": 4,
 "nbformat_minor": 1
}
